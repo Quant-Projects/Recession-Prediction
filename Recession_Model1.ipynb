{
  "nbformat": 4,
  "nbformat_minor": 0,
  "metadata": {
    "colab": {
      "name": "Recession_Model1.ipynb",
      "version": "0.3.2",
      "provenance": [],
      "collapsed_sections": [],
      "include_colab_link": true
    },
    "kernelspec": {
      "name": "python3",
      "display_name": "Python 3"
    }
  },
  "cells": [
    {
      "cell_type": "markdown",
      "metadata": {
        "id": "view-in-github",
        "colab_type": "text"
      },
      "source": [
        "<a href=\"https://colab.research.google.com/github/Quant-Projects/Recession-Prediction/blob/master/Recession_Model1.ipynb\" target=\"_parent\"><img src=\"https://colab.research.google.com/assets/colab-badge.svg\" alt=\"Open In Colab\"/></a>"
      ]
    },
    {
      "metadata": {
        "id": "5K4W4M4iP5Ui",
        "colab_type": "code",
        "colab": {}
      },
      "cell_type": "code",
      "source": [
        "import pandas as pd\n",
        "import matplotlib.pyplot as plt\n",
        "\n",
        "%matplotlib inline"
      ],
      "execution_count": 0,
      "outputs": []
    },
    {
      "metadata": {
        "id": "I4Y0bNtpQBKc",
        "colab_type": "code",
        "colab": {}
      },
      "cell_type": "code",
      "source": [
        "sp500 = pd.read_csv(\"^GSPC (6).csv\", parse_dates=['Date'])\n",
        "recession = pd.read_csv(\"recession_data.csv\", parse_dates=['DATE'])"
      ],
      "execution_count": 0,
      "outputs": []
    },
    {
      "metadata": {
        "id": "ZRucu8y5QMaE",
        "colab_type": "code",
        "colab": {}
      },
      "cell_type": "code",
      "source": [
        "sp500_values = []\n",
        "\n",
        "for i in sp500.values[::3]:\n",
        "  sp500_values.append(i)"
      ],
      "execution_count": 0,
      "outputs": []
    },
    {
      "metadata": {
        "id": "NAlFdu1wQVas",
        "colab_type": "code",
        "colab": {}
      },
      "cell_type": "code",
      "source": [
        "sp500 = pd.DataFrame(sp500_values, columns=sp500.keys())"
      ],
      "execution_count": 0,
      "outputs": []
    },
    {
      "metadata": {
        "id": "yd_3ViA4Ynz9",
        "colab_type": "code",
        "colab": {}
      },
      "cell_type": "code",
      "source": [
        "sp500.set_index(\"Date\", drop=True, inplace=True)"
      ],
      "execution_count": 0,
      "outputs": []
    },
    {
      "metadata": {
        "id": "p9RP9x0vXoAi",
        "colab_type": "code",
        "colab": {}
      },
      "cell_type": "code",
      "source": [
        "sp500.drop(sp500.tail(3).index,inplace=True)"
      ],
      "execution_count": 0,
      "outputs": []
    },
    {
      "metadata": {
        "id": "RT6lWHaBQZ5T",
        "colab_type": "code",
        "colab": {
          "base_uri": "https://localhost:8080/",
          "height": 235
        },
        "outputId": "ecfe4668-456e-4031-e457-61430df980f6"
      },
      "cell_type": "code",
      "source": [
        "sp500.tail()"
      ],
      "execution_count": 998,
      "outputs": [
        {
          "output_type": "execute_result",
          "data": {
            "text/html": [
              "<div>\n",
              "<style scoped>\n",
              "    .dataframe tbody tr th:only-of-type {\n",
              "        vertical-align: middle;\n",
              "    }\n",
              "\n",
              "    .dataframe tbody tr th {\n",
              "        vertical-align: top;\n",
              "    }\n",
              "\n",
              "    .dataframe thead th {\n",
              "        text-align: right;\n",
              "    }\n",
              "</style>\n",
              "<table border=\"1\" class=\"dataframe\">\n",
              "  <thead>\n",
              "    <tr style=\"text-align: right;\">\n",
              "      <th></th>\n",
              "      <th>Open</th>\n",
              "      <th>High</th>\n",
              "      <th>Low</th>\n",
              "      <th>Close</th>\n",
              "      <th>Adj Close</th>\n",
              "      <th>Volume</th>\n",
              "    </tr>\n",
              "    <tr>\n",
              "      <th>Date</th>\n",
              "      <th></th>\n",
              "      <th></th>\n",
              "      <th></th>\n",
              "      <th></th>\n",
              "      <th></th>\n",
              "      <th></th>\n",
              "    </tr>\n",
              "  </thead>\n",
              "  <tbody>\n",
              "    <tr>\n",
              "      <th>2017-04-01</th>\n",
              "      <td>2362.340088</td>\n",
              "      <td>2398.159912</td>\n",
              "      <td>2328.949951</td>\n",
              "      <td>2384.199951</td>\n",
              "      <td>2384.199951</td>\n",
              "      <td>65265670000</td>\n",
              "    </tr>\n",
              "    <tr>\n",
              "      <th>2017-07-01</th>\n",
              "      <td>2431.389893</td>\n",
              "      <td>2484.040039</td>\n",
              "      <td>2407.699951</td>\n",
              "      <td>2470.300049</td>\n",
              "      <td>2470.300049</td>\n",
              "      <td>63169400000</td>\n",
              "    </tr>\n",
              "    <tr>\n",
              "      <th>2017-10-01</th>\n",
              "      <td>2521.199951</td>\n",
              "      <td>2582.979980</td>\n",
              "      <td>2520.399902</td>\n",
              "      <td>2575.260010</td>\n",
              "      <td>2575.260010</td>\n",
              "      <td>70871570000</td>\n",
              "    </tr>\n",
              "    <tr>\n",
              "      <th>2018-01-01</th>\n",
              "      <td>2683.729980</td>\n",
              "      <td>2872.870117</td>\n",
              "      <td>2682.360107</td>\n",
              "      <td>2823.810059</td>\n",
              "      <td>2823.810059</td>\n",
              "      <td>76860120000</td>\n",
              "    </tr>\n",
              "    <tr>\n",
              "      <th>2018-04-01</th>\n",
              "      <td>2633.449951</td>\n",
              "      <td>2717.489990</td>\n",
              "      <td>2553.800049</td>\n",
              "      <td>2648.050049</td>\n",
              "      <td>2648.050049</td>\n",
              "      <td>69648590000</td>\n",
              "    </tr>\n",
              "  </tbody>\n",
              "</table>\n",
              "</div>"
            ],
            "text/plain": [
              "                   Open         High          Low        Close    Adj Close  \\\n",
              "Date                                                                          \n",
              "2017-04-01  2362.340088  2398.159912  2328.949951  2384.199951  2384.199951   \n",
              "2017-07-01  2431.389893  2484.040039  2407.699951  2470.300049  2470.300049   \n",
              "2017-10-01  2521.199951  2582.979980  2520.399902  2575.260010  2575.260010   \n",
              "2018-01-01  2683.729980  2872.870117  2682.360107  2823.810059  2823.810059   \n",
              "2018-04-01  2633.449951  2717.489990  2553.800049  2648.050049  2648.050049   \n",
              "\n",
              "                 Volume  \n",
              "Date                     \n",
              "2017-04-01  65265670000  \n",
              "2017-07-01  63169400000  \n",
              "2017-10-01  70871570000  \n",
              "2018-01-01  76860120000  \n",
              "2018-04-01  69648590000  "
            ]
          },
          "metadata": {
            "tags": []
          },
          "execution_count": 998
        }
      ]
    },
    {
      "metadata": {
        "id": "L19kEs2bQlHe",
        "colab_type": "code",
        "colab": {}
      },
      "cell_type": "code",
      "source": [
        "recession.set_index(\"DATE\", drop=True, inplace=True)"
      ],
      "execution_count": 0,
      "outputs": []
    },
    {
      "metadata": {
        "id": "L-nJKcF8WxQv",
        "colab_type": "code",
        "colab": {
          "base_uri": "https://localhost:8080/",
          "height": 235
        },
        "outputId": "159e6850-5c15-486c-fe42-b1c72e7f3cb6"
      },
      "cell_type": "code",
      "source": [
        "recession.tail()"
      ],
      "execution_count": 1000,
      "outputs": [
        {
          "output_type": "execute_result",
          "data": {
            "text/html": [
              "<div>\n",
              "<style scoped>\n",
              "    .dataframe tbody tr th:only-of-type {\n",
              "        vertical-align: middle;\n",
              "    }\n",
              "\n",
              "    .dataframe tbody tr th {\n",
              "        vertical-align: top;\n",
              "    }\n",
              "\n",
              "    .dataframe thead th {\n",
              "        text-align: right;\n",
              "    }\n",
              "</style>\n",
              "<table border=\"1\" class=\"dataframe\">\n",
              "  <thead>\n",
              "    <tr style=\"text-align: right;\">\n",
              "      <th></th>\n",
              "      <th>JHDUSRGDPBR</th>\n",
              "    </tr>\n",
              "    <tr>\n",
              "      <th>DATE</th>\n",
              "      <th></th>\n",
              "    </tr>\n",
              "  </thead>\n",
              "  <tbody>\n",
              "    <tr>\n",
              "      <th>2017-04-01</th>\n",
              "      <td>0.0</td>\n",
              "    </tr>\n",
              "    <tr>\n",
              "      <th>2017-07-01</th>\n",
              "      <td>0.0</td>\n",
              "    </tr>\n",
              "    <tr>\n",
              "      <th>2017-10-01</th>\n",
              "      <td>0.0</td>\n",
              "    </tr>\n",
              "    <tr>\n",
              "      <th>2018-01-01</th>\n",
              "      <td>0.0</td>\n",
              "    </tr>\n",
              "    <tr>\n",
              "      <th>2018-04-01</th>\n",
              "      <td>0.0</td>\n",
              "    </tr>\n",
              "  </tbody>\n",
              "</table>\n",
              "</div>"
            ],
            "text/plain": [
              "            JHDUSRGDPBR\n",
              "DATE                   \n",
              "2017-04-01          0.0\n",
              "2017-07-01          0.0\n",
              "2017-10-01          0.0\n",
              "2018-01-01          0.0\n",
              "2018-04-01          0.0"
            ]
          },
          "metadata": {
            "tags": []
          },
          "execution_count": 1000
        }
      ]
    },
    {
      "metadata": {
        "id": "lscVKrkrXy_c",
        "colab_type": "code",
        "colab": {
          "base_uri": "https://localhost:8080/",
          "height": 296
        },
        "outputId": "e2725482-9983-4a89-9977-1db8af03fe7d"
      },
      "cell_type": "code",
      "source": [
        "plt.subplot(211)\n",
        "sp500['Adj Close'].plot()\n",
        "plt.subplot(212)\n",
        "recession['JHDUSRGDPBR'].plot()"
      ],
      "execution_count": 1001,
      "outputs": [
        {
          "output_type": "execute_result",
          "data": {
            "text/plain": [
              "<matplotlib.axes._subplots.AxesSubplot at 0x7f577b6304a8>"
            ]
          },
          "metadata": {
            "tags": []
          },
          "execution_count": 1001
        },
        {
          "output_type": "display_data",
          "data": {
            "image/png": "[encoded data removed]",
            "text/plain": [
              "<matplotlib.figure.Figure at 0x7f577b7262b0>"
            ]
          },
          "metadata": {
            "tags": []
          }
        }
      ]
    },
    {
      "metadata": {
        "id": "ThAlc5byZPTN",
        "colab_type": "code",
        "colab": {
          "base_uri": "https://localhost:8080/",
          "height": 545
        },
        "outputId": "ee2d9392-f134-423d-c611-4bee1460f200"
      },
      "cell_type": "code",
      "source": [
        "recession.loc[recession['JHDUSRGDPBR'] == 1.0]"
      ],
      "execution_count": 1002,
      "outputs": [
        {
          "output_type": "execute_result",
          "data": {
            "text/html": [
              "<div>\n",
              "<style scoped>\n",
              "    .dataframe tbody tr th:only-of-type {\n",
              "        vertical-align: middle;\n",
              "    }\n",
              "\n",
              "    .dataframe tbody tr th {\n",
              "        vertical-align: top;\n",
              "    }\n",
              "\n",
              "    .dataframe thead th {\n",
              "        text-align: right;\n",
              "    }\n",
              "</style>\n",
              "<table border=\"1\" class=\"dataframe\">\n",
              "  <thead>\n",
              "    <tr style=\"text-align: right;\">\n",
              "      <th></th>\n",
              "      <th>JHDUSRGDPBR</th>\n",
              "    </tr>\n",
              "    <tr>\n",
              "      <th>DATE</th>\n",
              "      <th></th>\n",
              "    </tr>\n",
              "  </thead>\n",
              "  <tbody>\n",
              "    <tr>\n",
              "      <th>1990-01-01</th>\n",
              "      <td>1.0</td>\n",
              "    </tr>\n",
              "    <tr>\n",
              "      <th>1990-04-01</th>\n",
              "      <td>1.0</td>\n",
              "    </tr>\n",
              "    <tr>\n",
              "      <th>1990-07-01</th>\n",
              "      <td>1.0</td>\n",
              "    </tr>\n",
              "    <tr>\n",
              "      <th>1990-10-01</th>\n",
              "      <td>1.0</td>\n",
              "    </tr>\n",
              "    <tr>\n",
              "      <th>1991-01-01</th>\n",
              "      <td>1.0</td>\n",
              "    </tr>\n",
              "    <tr>\n",
              "      <th>2001-01-01</th>\n",
              "      <td>1.0</td>\n",
              "    </tr>\n",
              "    <tr>\n",
              "      <th>2001-04-01</th>\n",
              "      <td>1.0</td>\n",
              "    </tr>\n",
              "    <tr>\n",
              "      <th>2001-07-01</th>\n",
              "      <td>1.0</td>\n",
              "    </tr>\n",
              "    <tr>\n",
              "      <th>2007-10-01</th>\n",
              "      <td>1.0</td>\n",
              "    </tr>\n",
              "    <tr>\n",
              "      <th>2008-01-01</th>\n",
              "      <td>1.0</td>\n",
              "    </tr>\n",
              "    <tr>\n",
              "      <th>2008-04-01</th>\n",
              "      <td>1.0</td>\n",
              "    </tr>\n",
              "    <tr>\n",
              "      <th>2008-07-01</th>\n",
              "      <td>1.0</td>\n",
              "    </tr>\n",
              "    <tr>\n",
              "      <th>2008-10-01</th>\n",
              "      <td>1.0</td>\n",
              "    </tr>\n",
              "    <tr>\n",
              "      <th>2009-01-01</th>\n",
              "      <td>1.0</td>\n",
              "    </tr>\n",
              "    <tr>\n",
              "      <th>2009-04-01</th>\n",
              "      <td>1.0</td>\n",
              "    </tr>\n",
              "  </tbody>\n",
              "</table>\n",
              "</div>"
            ],
            "text/plain": [
              "            JHDUSRGDPBR\n",
              "DATE                   \n",
              "1990-01-01          1.0\n",
              "1990-04-01          1.0\n",
              "1990-07-01          1.0\n",
              "1990-10-01          1.0\n",
              "1991-01-01          1.0\n",
              "2001-01-01          1.0\n",
              "2001-04-01          1.0\n",
              "2001-07-01          1.0\n",
              "2007-10-01          1.0\n",
              "2008-01-01          1.0\n",
              "2008-04-01          1.0\n",
              "2008-07-01          1.0\n",
              "2008-10-01          1.0\n",
              "2009-01-01          1.0\n",
              "2009-04-01          1.0"
            ]
          },
          "metadata": {
            "tags": []
          },
          "execution_count": 1002
        }
      ]
    },
    {
      "metadata": {
        "id": "jw93Ea00hd7g",
        "colab_type": "code",
        "colab": {}
      },
      "cell_type": "code",
      "source": [
        "i1 = recession.loc[(recession.index == \"2000-10-01\")].index\n",
        "i2 = recession.loc[(recession.index == \"2000-07-01\")].index\n",
        "i3 = recession.loc[(recession.index == \"2000-04-01\")].index\n",
        "i7 = recession.loc[(recession.index == \"2000-01-01\")].index\n",
        "\n",
        "i4 = recession.loc[(recession.index == \"2007-07-01\")].index\n",
        "i5 = recession.loc[(recession.index == \"2007-04-01\")].index\n",
        "i6 = recession.loc[(recession.index == \"2007-01-01\")].index\n",
        "i8 = recession.loc[(recession.index == \"2006-10-01\")].index"
      ],
      "execution_count": 0,
      "outputs": []
    },
    {
      "metadata": {
        "id": "1RcIU6TxpWe9",
        "colab_type": "code",
        "colab": {}
      },
      "cell_type": "code",
      "source": [
        "recession['JHDUSRGDPBR'].replace(1.0, 2.0, inplace=True)"
      ],
      "execution_count": 0,
      "outputs": []
    },
    {
      "metadata": {
        "id": "SPXYjCyfkJe0",
        "colab_type": "code",
        "colab": {}
      },
      "cell_type": "code",
      "source": [
        "recession.loc[i1, 'JHDUSRGDPBR'] = 1\n",
        "recession.loc[i2, 'JHDUSRGDPBR'] = 1\n",
        "recession.loc[i3, 'JHDUSRGDPBR'] = 1\n",
        "recession.loc[i7, 'JHDUSRGDPBR'] = 1\n",
        "\n",
        "recession.loc[i4, 'JHDUSRGDPBR'] = 1\n",
        "recession.loc[i5, 'JHDUSRGDPBR'] = 1\n",
        "recession.loc[i6, 'JHDUSRGDPBR'] = 1\n",
        "#recession.loc[i8, 'JHDUSRGDPBR'] = 1"
      ],
      "execution_count": 0,
      "outputs": []
    },
    {
      "metadata": {
        "id": "f9mKqLLznpe9",
        "colab_type": "code",
        "colab": {}
      },
      "cell_type": "code",
      "source": [
        "vix = pd.read_csv(\"^VIX (1).csv\", parse_dates=['Date'])"
      ],
      "execution_count": 0,
      "outputs": []
    },
    {
      "metadata": {
        "id": "1_HXyVSfnxxz",
        "colab_type": "code",
        "colab": {}
      },
      "cell_type": "code",
      "source": [
        "vix_data = []\n",
        "\n",
        "for i in vix.values[::3]:\n",
        "  vix_data.append(i)"
      ],
      "execution_count": 0,
      "outputs": []
    },
    {
      "metadata": {
        "id": "71gC0fJkn2wX",
        "colab_type": "code",
        "colab": {}
      },
      "cell_type": "code",
      "source": [
        "vix = pd.DataFrame(vix_data, columns=vix.keys())\n",
        "vix.set_index(\"Date\", drop=True, inplace=True)"
      ],
      "execution_count": 0,
      "outputs": []
    },
    {
      "metadata": {
        "id": "6KbdJzU9n6IU",
        "colab_type": "code",
        "colab": {
          "base_uri": "https://localhost:8080/",
          "height": 235
        },
        "outputId": "135561af-15bc-4548-e20e-00e56b888ead"
      },
      "cell_type": "code",
      "source": [
        "vix.tail()"
      ],
      "execution_count": 1009,
      "outputs": [
        {
          "output_type": "execute_result",
          "data": {
            "text/html": [
              "<div>\n",
              "<style scoped>\n",
              "    .dataframe tbody tr th:only-of-type {\n",
              "        vertical-align: middle;\n",
              "    }\n",
              "\n",
              "    .dataframe tbody tr th {\n",
              "        vertical-align: top;\n",
              "    }\n",
              "\n",
              "    .dataframe thead th {\n",
              "        text-align: right;\n",
              "    }\n",
              "</style>\n",
              "<table border=\"1\" class=\"dataframe\">\n",
              "  <thead>\n",
              "    <tr style=\"text-align: right;\">\n",
              "      <th></th>\n",
              "      <th>Open</th>\n",
              "      <th>High</th>\n",
              "      <th>Low</th>\n",
              "      <th>Close</th>\n",
              "      <th>Adj Close</th>\n",
              "      <th>Volume</th>\n",
              "    </tr>\n",
              "    <tr>\n",
              "      <th>Date</th>\n",
              "      <th></th>\n",
              "      <th></th>\n",
              "      <th></th>\n",
              "      <th></th>\n",
              "      <th></th>\n",
              "      <th></th>\n",
              "    </tr>\n",
              "  </thead>\n",
              "  <tbody>\n",
              "    <tr>\n",
              "      <th>2017-04-01</th>\n",
              "      <td>12.59</td>\n",
              "      <td>16.280001</td>\n",
              "      <td>10.22</td>\n",
              "      <td>10.82</td>\n",
              "      <td>10.82</td>\n",
              "      <td>0</td>\n",
              "    </tr>\n",
              "    <tr>\n",
              "      <th>2017-07-01</th>\n",
              "      <td>11.07</td>\n",
              "      <td>13.050000</td>\n",
              "      <td>8.84</td>\n",
              "      <td>10.26</td>\n",
              "      <td>10.26</td>\n",
              "      <td>0</td>\n",
              "    </tr>\n",
              "    <tr>\n",
              "      <th>2017-10-01</th>\n",
              "      <td>9.59</td>\n",
              "      <td>13.200000</td>\n",
              "      <td>9.11</td>\n",
              "      <td>10.18</td>\n",
              "      <td>10.18</td>\n",
              "      <td>0</td>\n",
              "    </tr>\n",
              "    <tr>\n",
              "      <th>2018-01-01</th>\n",
              "      <td>10.95</td>\n",
              "      <td>15.420000</td>\n",
              "      <td>8.92</td>\n",
              "      <td>13.54</td>\n",
              "      <td>13.54</td>\n",
              "      <td>0</td>\n",
              "    </tr>\n",
              "    <tr>\n",
              "      <th>2018-04-01</th>\n",
              "      <td>21.07</td>\n",
              "      <td>25.719999</td>\n",
              "      <td>14.57</td>\n",
              "      <td>15.93</td>\n",
              "      <td>15.93</td>\n",
              "      <td>0</td>\n",
              "    </tr>\n",
              "  </tbody>\n",
              "</table>\n",
              "</div>"
            ],
            "text/plain": [
              "             Open       High    Low  Close  Adj Close  Volume\n",
              "Date                                                         \n",
              "2017-04-01  12.59  16.280001  10.22  10.82      10.82       0\n",
              "2017-07-01  11.07  13.050000   8.84  10.26      10.26       0\n",
              "2017-10-01   9.59  13.200000   9.11  10.18      10.18       0\n",
              "2018-01-01  10.95  15.420000   8.92  13.54      13.54       0\n",
              "2018-04-01  21.07  25.719999  14.57  15.93      15.93       0"
            ]
          },
          "metadata": {
            "tags": []
          },
          "execution_count": 1009
        }
      ]
    },
    {
      "metadata": {
        "id": "-pgi9np7ojSO",
        "colab_type": "code",
        "colab": {
          "base_uri": "https://localhost:8080/",
          "height": 296
        },
        "outputId": "7f506e0f-7fe0-4f64-e8d1-4af7476b1be0"
      },
      "cell_type": "code",
      "source": [
        "plt.subplot(311)\n",
        "sp500['Adj Close'].plot()\n",
        "plt.subplot(312)\n",
        "recession['JHDUSRGDPBR'].plot()\n",
        "plt.subplot(313)\n",
        "vix['Adj Close'].plot()"
      ],
      "execution_count": 1010,
      "outputs": [
        {
          "output_type": "execute_result",
          "data": {
            "text/plain": [
              "<matplotlib.axes._subplots.AxesSubplot at 0x7f577b422cc0>"
            ]
          },
          "metadata": {
            "tags": []
          },
          "execution_count": 1010
        },
        {
          "output_type": "display_data",
          "data": {
            "image/png": "[encoded data removed]",
            "text/plain": [
              "<matplotlib.figure.Figure at 0x7f577b5fb4a8>"
            ]
          },
          "metadata": {
            "tags": []
          }
        }
      ]
    },
    {
      "metadata": {
        "id": "P6JYZ_mA93LG",
        "colab_type": "code",
        "colab": {}
      },
      "cell_type": "code",
      "source": [
        "yield_data = pd.read_excel(\"ust_month_average.xlsx\", parse_dates=['date'])"
      ],
      "execution_count": 0,
      "outputs": []
    },
    {
      "metadata": {
        "id": "dUBiw5W-_ygj",
        "colab_type": "code",
        "colab": {
          "base_uri": "https://localhost:8080/",
          "height": 34
        },
        "outputId": "2e168f69-df68-4099-d60d-de5370a978b6"
      },
      "cell_type": "code",
      "source": [
        "sp500.shape"
      ],
      "execution_count": 1012,
      "outputs": [
        {
          "output_type": "execute_result",
          "data": {
            "text/plain": [
              "(114, 6)"
            ]
          },
          "metadata": {
            "tags": []
          },
          "execution_count": 1012
        }
      ]
    },
    {
      "metadata": {
        "id": "oY0AX-Iq9_b2",
        "colab_type": "code",
        "colab": {}
      },
      "cell_type": "code",
      "source": [
        "y_data = []\n",
        "\n",
        "for i in yield_data.values[::3]:\n",
        "  y_data.append(i)"
      ],
      "execution_count": 0,
      "outputs": []
    },
    {
      "metadata": {
        "id": "xm0X22e_-lO3",
        "colab_type": "code",
        "colab": {}
      },
      "cell_type": "code",
      "source": [
        "yield_data = pd.DataFrame(y_data, columns=yield_data.keys())"
      ],
      "execution_count": 0,
      "outputs": []
    },
    {
      "metadata": {
        "id": "LaovS4p_SgP3",
        "colab_type": "code",
        "colab": {
          "base_uri": "https://localhost:8080/",
          "height": 289
        },
        "outputId": "98a4a477-5224-4be8-c9cd-d8a2d358980a"
      },
      "cell_type": "code",
      "source": [
        "yield_data.head()"
      ],
      "execution_count": 1015,
      "outputs": [
        {
          "output_type": "execute_result",
          "data": {
            "text/html": [
              "<div>\n",
              "<style scoped>\n",
              "    .dataframe tbody tr th:only-of-type {\n",
              "        vertical-align: middle;\n",
              "    }\n",
              "\n",
              "    .dataframe tbody tr th {\n",
              "        vertical-align: top;\n",
              "    }\n",
              "\n",
              "    .dataframe thead th {\n",
              "        text-align: right;\n",
              "    }\n",
              "</style>\n",
              "<table border=\"1\" class=\"dataframe\">\n",
              "  <thead>\n",
              "    <tr style=\"text-align: right;\">\n",
              "      <th></th>\n",
              "      <th>date</th>\n",
              "      <th>year</th>\n",
              "      <th>month</th>\n",
              "      <th>BC_1MONTH</th>\n",
              "      <th>BC_3MONTH</th>\n",
              "      <th>BC_6MONTH</th>\n",
              "      <th>BC_1YEAR</th>\n",
              "      <th>BC_2YEAR</th>\n",
              "      <th>BC_3YEAR</th>\n",
              "      <th>BC_5YEAR</th>\n",
              "      <th>BC_7YEAR</th>\n",
              "      <th>BC_10YEAR</th>\n",
              "      <th>BC_20YEAR</th>\n",
              "      <th>BC_30YEAR</th>\n",
              "      <th>BC_30YEARDISPLAY</th>\n",
              "    </tr>\n",
              "  </thead>\n",
              "  <tbody>\n",
              "    <tr>\n",
              "      <th>0</th>\n",
              "      <td>1990-01-31</td>\n",
              "      <td>1990</td>\n",
              "      <td>1</td>\n",
              "      <td>0.0</td>\n",
              "      <td>7.90</td>\n",
              "      <td>7.96</td>\n",
              "      <td>7.92</td>\n",
              "      <td>8.09</td>\n",
              "      <td>8.13</td>\n",
              "      <td>8.12</td>\n",
              "      <td>8.20</td>\n",
              "      <td>8.21</td>\n",
              "      <td>0.0</td>\n",
              "      <td>8.26</td>\n",
              "      <td>0.0</td>\n",
              "    </tr>\n",
              "    <tr>\n",
              "      <th>1</th>\n",
              "      <td>1990-04-30</td>\n",
              "      <td>1990</td>\n",
              "      <td>4</td>\n",
              "      <td>0.0</td>\n",
              "      <td>8.04</td>\n",
              "      <td>8.27</td>\n",
              "      <td>8.40</td>\n",
              "      <td>8.72</td>\n",
              "      <td>8.78</td>\n",
              "      <td>8.77</td>\n",
              "      <td>8.81</td>\n",
              "      <td>8.79</td>\n",
              "      <td>0.0</td>\n",
              "      <td>8.76</td>\n",
              "      <td>0.0</td>\n",
              "    </tr>\n",
              "    <tr>\n",
              "      <th>2</th>\n",
              "      <td>1990-07-31</td>\n",
              "      <td>1990</td>\n",
              "      <td>7</td>\n",
              "      <td>0.0</td>\n",
              "      <td>7.87</td>\n",
              "      <td>7.92</td>\n",
              "      <td>7.94</td>\n",
              "      <td>8.16</td>\n",
              "      <td>8.26</td>\n",
              "      <td>8.33</td>\n",
              "      <td>8.46</td>\n",
              "      <td>8.47</td>\n",
              "      <td>0.0</td>\n",
              "      <td>8.50</td>\n",
              "      <td>0.0</td>\n",
              "    </tr>\n",
              "    <tr>\n",
              "      <th>3</th>\n",
              "      <td>1990-10-31</td>\n",
              "      <td>1990</td>\n",
              "      <td>10</td>\n",
              "      <td>0.0</td>\n",
              "      <td>7.40</td>\n",
              "      <td>7.53</td>\n",
              "      <td>7.55</td>\n",
              "      <td>7.88</td>\n",
              "      <td>8.07</td>\n",
              "      <td>8.33</td>\n",
              "      <td>8.59</td>\n",
              "      <td>8.72</td>\n",
              "      <td>0.0</td>\n",
              "      <td>8.86</td>\n",
              "      <td>0.0</td>\n",
              "    </tr>\n",
              "    <tr>\n",
              "      <th>4</th>\n",
              "      <td>1991-01-31</td>\n",
              "      <td>1991</td>\n",
              "      <td>1</td>\n",
              "      <td>0.0</td>\n",
              "      <td>6.41</td>\n",
              "      <td>6.58</td>\n",
              "      <td>6.64</td>\n",
              "      <td>7.13</td>\n",
              "      <td>7.38</td>\n",
              "      <td>7.70</td>\n",
              "      <td>7.97</td>\n",
              "      <td>8.09</td>\n",
              "      <td>0.0</td>\n",
              "      <td>8.27</td>\n",
              "      <td>0.0</td>\n",
              "    </tr>\n",
              "  </tbody>\n",
              "</table>\n",
              "</div>"
            ],
            "text/plain": [
              "        date  year  month  BC_1MONTH  BC_3MONTH  BC_6MONTH  BC_1YEAR  \\\n",
              "0 1990-01-31  1990      1        0.0       7.90       7.96      7.92   \n",
              "1 1990-04-30  1990      4        0.0       8.04       8.27      8.40   \n",
              "2 1990-07-31  1990      7        0.0       7.87       7.92      7.94   \n",
              "3 1990-10-31  1990     10        0.0       7.40       7.53      7.55   \n",
              "4 1991-01-31  1991      1        0.0       6.41       6.58      6.64   \n",
              "\n",
              "   BC_2YEAR  BC_3YEAR  BC_5YEAR  BC_7YEAR  BC_10YEAR  BC_20YEAR  BC_30YEAR  \\\n",
              "0      8.09      8.13      8.12      8.20       8.21        0.0       8.26   \n",
              "1      8.72      8.78      8.77      8.81       8.79        0.0       8.76   \n",
              "2      8.16      8.26      8.33      8.46       8.47        0.0       8.50   \n",
              "3      7.88      8.07      8.33      8.59       8.72        0.0       8.86   \n",
              "4      7.13      7.38      7.70      7.97       8.09        0.0       8.27   \n",
              "\n",
              "   BC_30YEARDISPLAY  \n",
              "0               0.0  \n",
              "1               0.0  \n",
              "2               0.0  \n",
              "3               0.0  \n",
              "4               0.0  "
            ]
          },
          "metadata": {
            "tags": []
          },
          "execution_count": 1015
        }
      ]
    },
    {
      "metadata": {
        "id": "q05IVaFl_6yr",
        "colab_type": "code",
        "colab": {
          "base_uri": "https://localhost:8080/",
          "height": 34
        },
        "outputId": "ae520af5-fb7f-4650-af63-f3be36ea4bf9"
      },
      "cell_type": "code",
      "source": [
        "yield_data.shape"
      ],
      "execution_count": 1016,
      "outputs": [
        {
          "output_type": "execute_result",
          "data": {
            "text/plain": [
              "(110, 15)"
            ]
          },
          "metadata": {
            "tags": []
          },
          "execution_count": 1016
        }
      ]
    },
    {
      "metadata": {
        "id": "lEo4FuPxATl1",
        "colab_type": "code",
        "colab": {}
      },
      "cell_type": "code",
      "source": [
        "sp500 = sp500[:110]\n",
        "vix = vix[:110]\n",
        "recession = recession[:110]"
      ],
      "execution_count": 0,
      "outputs": []
    },
    {
      "metadata": {
        "id": "gk0IMiHOAW5q",
        "colab_type": "code",
        "colab": {
          "base_uri": "https://localhost:8080/",
          "height": 34
        },
        "outputId": "592a6a17-d807-4d81-c203-1c7114ae46c3"
      },
      "cell_type": "code",
      "source": [
        "print(sp500.shape, vix.shape, recession.shape, yield_data.shape)"
      ],
      "execution_count": 1018,
      "outputs": [
        {
          "output_type": "stream",
          "text": [
            "(110, 6) (110, 6) (110, 1) (110, 15)\n"
          ],
          "name": "stdout"
        }
      ]
    },
    {
      "metadata": {
        "id": "jxAGCyFkBuBd",
        "colab_type": "text"
      },
      "cell_type": "markdown",
      "source": [
        "CREATE FEATURES"
      ]
    },
    {
      "metadata": {
        "id": "Mk2aSuXKSRf3",
        "colab_type": "code",
        "colab": {}
      },
      "cell_type": "code",
      "source": [
        "training_features = pd.DataFrame()"
      ],
      "execution_count": 0,
      "outputs": []
    },
    {
      "metadata": {
        "id": "dT-DdTCDUM5x",
        "colab_type": "code",
        "colab": {}
      },
      "cell_type": "code",
      "source": [
        "delta_vix = []\n",
        "\n",
        "for i in range(len(vix)):\n",
        "  try:\n",
        "      delta_vix.append(vix['Adj Close'].values[i] - vix['Adj Close'].values[i - 4])\n",
        "  except:\n",
        "      delta_vix.append(np.nan)"
      ],
      "execution_count": 0,
      "outputs": []
    },
    {
      "metadata": {
        "id": "I0F7_zkpVm1F",
        "colab_type": "code",
        "colab": {
          "base_uri": "https://localhost:8080/",
          "height": 1887
        },
        "outputId": "742e5f1c-5d8c-4f6f-b378-43083f298b65"
      },
      "cell_type": "code",
      "source": [
        "delta_vix"
      ],
      "execution_count": 1021,
      "outputs": [
        {
          "output_type": "execute_result",
          "data": {
            "text/plain": [
              "[13.490001000000001,\n",
              " 2.460001000000002,\n",
              " 9.120001,\n",
              " 19.220001,\n",
              " -4.450001,\n",
              " -1.2800000000000011,\n",
              " -5.930001000000001,\n",
              " -14.560001,\n",
              " -3.5100000000000016,\n",
              " -2.709999999999999,\n",
              " -2.01,\n",
              " 0.6699999999999982,\n",
              " -4.979999999999999,\n",
              " -3.1099999999999994,\n",
              " -1.4399999999999995,\n",
              " -4.689999999999998,\n",
              " -1.7899999999999991,\n",
              " 1.3499999999999996,\n",
              " -0.5999999999999996,\n",
              " 3.0999999999999996,\n",
              " 1.33,\n",
              " -2.0199999999999996,\n",
              " 2.3599999999999994,\n",
              " -0.7300000000000004,\n",
              " 0.5699999999999985,\n",
              " 4.08,\n",
              " 5.969999,\n",
              " 4.280001,\n",
              " 6.9399989999999985,\n",
              " 4.229998999999998,\n",
              " 2.0200010000000006,\n",
              " 16.979999000000003,\n",
              " 2.0,\n",
              " 1.120001000000002,\n",
              " 3.3199989999999993,\n",
              " -7.040001000000004,\n",
              " 4.780001000000002,\n",
              " 3.8900000000000006,\n",
              " -0.16000000000000014,\n",
              " -5.849997999999999,\n",
              " -1.2999989999999997,\n",
              " 1.130001,\n",
              " -3.899999000000001,\n",
              " 1.4299979999999977,\n",
              " -2.9300010000000007,\n",
              " -0.7200009999999999,\n",
              " 0.8800010000000036,\n",
              " 9.930002000000002,\n",
              " -0.9299999999999997,\n",
              " -3.5700000000000003,\n",
              " 10.409997999999995,\n",
              " -2.420002,\n",
              " 10.080000000000002,\n",
              " -0.7000010000000003,\n",
              " -12.539998999999998,\n",
              " -15.039998999999998,\n",
              " -14.540001000000004,\n",
              " -4.0199979999999975,\n",
              " -4.169999999999998,\n",
              " 0.16999999999999815,\n",
              " -3.8099989999999977,\n",
              " -1.8800010000000018,\n",
              " -3.75,\n",
              " -0.9499999999999993,\n",
              " 0.129999999999999,\n",
              " -3.7200000000000006,\n",
              " 3.379999999999999,\n",
              " -4.220000000000001,\n",
              " -2.5299999999999994,\n",
              " 2.630000000000001,\n",
              " 8.57,\n",
              " 7.4300010000000025,\n",
              " 15.780001,\n",
              " 6.5700009999999995,\n",
              " -0.5799989999999973,\n",
              " 41.35999799999999,\n",
              " 18.639999000000003,\n",
              " 15.709999,\n",
              " 2.9799989999999994,\n",
              " -29.199997999999994,\n",
              " -20.219999,\n",
              " -14.450001,\n",
              " -2.4200000000000017,\n",
              " -9.490000000000002,\n",
              " -5.09,\n",
              " -7.299999,\n",
              " 1.75,\n",
              " 8.759998,\n",
              " -0.08999999999999986,\n",
              " 2.3999999999999986,\n",
              " -6.32,\n",
              " -11.359998999999998,\n",
              " -5.160001000000003,\n",
              " -3.629999999999999,\n",
              " -5.48,\n",
              " -4.850000000000001,\n",
              " 4.130000000000001,\n",
              " -0.10999999999999943,\n",
              " 3.500001000000001,\n",
              " 0.27999999999999936,\n",
              " 2.5599989999999977,\n",
              " 1.1400000000000006,\n",
              " -4.830001000000001,\n",
              " 1.040000000000001,\n",
              " -0.7699979999999975,\n",
              " 1.1499999999999986,\n",
              " -0.25,\n",
              " 1.9899989999999974,\n",
              " -8.210001,\n",
              " -4.879999999999999]"
            ]
          },
          "metadata": {
            "tags": []
          },
          "execution_count": 1021
        }
      ]
    },
    {
      "metadata": {
        "id": "RVWRDzpPbs8Y",
        "colab_type": "code",
        "colab": {}
      },
      "cell_type": "code",
      "source": [
        "delta_sp = []\n",
        "\n",
        "for i in range(len(sp500)):\n",
        "  try:\n",
        "    delta_sp.append(sp500['Adj Close'].values[i] - sp500['Adj Close'].values[i - 4])\n",
        "  except:\n",
        "    delta_sp.append(np.nan)"
      ],
      "execution_count": 0,
      "outputs": []
    },
    {
      "metadata": {
        "id": "wxVBeFAbSUrq",
        "colab_type": "code",
        "colab": {}
      },
      "cell_type": "code",
      "source": [
        "training_features['Delta Yield'] = yield_data['BC_1YEAR'] - yield_data['BC_1YEAR'].shift(4)\n",
        "#training_features['Delta Yield < 0'] = training_features['Delta Yield'] < 0.0\n",
        "training_features['Delta VIX'] = delta_vix\n",
        "#training_features['Delta SP500'] = delta_sp"
      ],
      "execution_count": 0,
      "outputs": []
    },
    {
      "metadata": {
        "id": "4FaEEoj7TJCA",
        "colab_type": "code",
        "colab": {
          "base_uri": "https://localhost:8080/",
          "height": 1969
        },
        "outputId": "200f2d18-197d-4b97-85d3-0730ef5eaca1"
      },
      "cell_type": "code",
      "source": [
        "training_features"
      ],
      "execution_count": 1024,
      "outputs": [
        {
          "output_type": "execute_result",
          "data": {
            "text/html": [
              "<div>\n",
              "<style scoped>\n",
              "    .dataframe tbody tr th:only-of-type {\n",
              "        vertical-align: middle;\n",
              "    }\n",
              "\n",
              "    .dataframe tbody tr th {\n",
              "        vertical-align: top;\n",
              "    }\n",
              "\n",
              "    .dataframe thead th {\n",
              "        text-align: right;\n",
              "    }\n",
              "</style>\n",
              "<table border=\"1\" class=\"dataframe\">\n",
              "  <thead>\n",
              "    <tr style=\"text-align: right;\">\n",
              "      <th></th>\n",
              "      <th>Delta Yield</th>\n",
              "      <th>Delta VIX</th>\n",
              "    </tr>\n",
              "  </thead>\n",
              "  <tbody>\n",
              "    <tr>\n",
              "      <th>0</th>\n",
              "      <td>NaN</td>\n",
              "      <td>13.490001</td>\n",
              "    </tr>\n",
              "    <tr>\n",
              "      <th>1</th>\n",
              "      <td>NaN</td>\n",
              "      <td>2.460001</td>\n",
              "    </tr>\n",
              "    <tr>\n",
              "      <th>2</th>\n",
              "      <td>NaN</td>\n",
              "      <td>9.120001</td>\n",
              "    </tr>\n",
              "    <tr>\n",
              "      <th>3</th>\n",
              "      <td>NaN</td>\n",
              "      <td>19.220001</td>\n",
              "    </tr>\n",
              "    <tr>\n",
              "      <th>4</th>\n",
              "      <td>-1.28</td>\n",
              "      <td>-4.450001</td>\n",
              "    </tr>\n",
              "    <tr>\n",
              "      <th>5</th>\n",
              "      <td>-2.16</td>\n",
              "      <td>-1.280000</td>\n",
              "    </tr>\n",
              "    <tr>\n",
              "      <th>6</th>\n",
              "      <td>-1.63</td>\n",
              "      <td>-5.930001</td>\n",
              "    </tr>\n",
              "    <tr>\n",
              "      <th>7</th>\n",
              "      <td>-2.22</td>\n",
              "      <td>-14.560001</td>\n",
              "    </tr>\n",
              "    <tr>\n",
              "      <th>8</th>\n",
              "      <td>-2.49</td>\n",
              "      <td>-3.510000</td>\n",
              "    </tr>\n",
              "    <tr>\n",
              "      <th>9</th>\n",
              "      <td>-1.94</td>\n",
              "      <td>-2.710000</td>\n",
              "    </tr>\n",
              "    <tr>\n",
              "      <th>10</th>\n",
              "      <td>-2.71</td>\n",
              "      <td>-2.010000</td>\n",
              "    </tr>\n",
              "    <tr>\n",
              "      <th>11</th>\n",
              "      <td>-2.03</td>\n",
              "      <td>0.670000</td>\n",
              "    </tr>\n",
              "    <tr>\n",
              "      <th>12</th>\n",
              "      <td>-0.65</td>\n",
              "      <td>-4.980000</td>\n",
              "    </tr>\n",
              "    <tr>\n",
              "      <th>13</th>\n",
              "      <td>-1.06</td>\n",
              "      <td>-3.110000</td>\n",
              "    </tr>\n",
              "    <tr>\n",
              "      <th>14</th>\n",
              "      <td>-0.13</td>\n",
              "      <td>-1.440000</td>\n",
              "    </tr>\n",
              "    <tr>\n",
              "      <th>15</th>\n",
              "      <td>0.09</td>\n",
              "      <td>-4.690000</td>\n",
              "    </tr>\n",
              "    <tr>\n",
              "      <th>16</th>\n",
              "      <td>0.04</td>\n",
              "      <td>-1.790000</td>\n",
              "    </tr>\n",
              "    <tr>\n",
              "      <th>17</th>\n",
              "      <td>1.58</td>\n",
              "      <td>1.350000</td>\n",
              "    </tr>\n",
              "    <tr>\n",
              "      <th>18</th>\n",
              "      <td>2.01</td>\n",
              "      <td>-0.600000</td>\n",
              "    </tr>\n",
              "    <tr>\n",
              "      <th>19</th>\n",
              "      <td>2.72</td>\n",
              "      <td>3.100000</td>\n",
              "    </tr>\n",
              "    <tr>\n",
              "      <th>20</th>\n",
              "      <td>3.51</td>\n",
              "      <td>1.330000</td>\n",
              "    </tr>\n",
              "    <tr>\n",
              "      <th>21</th>\n",
              "      <td>1.45</td>\n",
              "      <td>-2.020000</td>\n",
              "    </tr>\n",
              "    <tr>\n",
              "      <th>22</th>\n",
              "      <td>0.11</td>\n",
              "      <td>2.360000</td>\n",
              "    </tr>\n",
              "    <tr>\n",
              "      <th>23</th>\n",
              "      <td>-0.52</td>\n",
              "      <td>-0.730000</td>\n",
              "    </tr>\n",
              "    <tr>\n",
              "      <th>24</th>\n",
              "      <td>-1.96</td>\n",
              "      <td>0.570000</td>\n",
              "    </tr>\n",
              "    <tr>\n",
              "      <th>25</th>\n",
              "      <td>-0.73</td>\n",
              "      <td>4.080000</td>\n",
              "    </tr>\n",
              "    <tr>\n",
              "      <th>26</th>\n",
              "      <td>0.26</td>\n",
              "      <td>5.969999</td>\n",
              "    </tr>\n",
              "    <tr>\n",
              "      <th>27</th>\n",
              "      <td>-0.04</td>\n",
              "      <td>4.280001</td>\n",
              "    </tr>\n",
              "    <tr>\n",
              "      <th>28</th>\n",
              "      <td>0.52</td>\n",
              "      <td>6.939999</td>\n",
              "    </tr>\n",
              "    <tr>\n",
              "      <th>29</th>\n",
              "      <td>0.45</td>\n",
              "      <td>4.229999</td>\n",
              "    </tr>\n",
              "    <tr>\n",
              "      <th>...</th>\n",
              "      <td>...</td>\n",
              "      <td>...</td>\n",
              "    </tr>\n",
              "    <tr>\n",
              "      <th>80</th>\n",
              "      <td>-0.09</td>\n",
              "      <td>-20.219999</td>\n",
              "    </tr>\n",
              "    <tr>\n",
              "      <th>81</th>\n",
              "      <td>-0.11</td>\n",
              "      <td>-14.450001</td>\n",
              "    </tr>\n",
              "    <tr>\n",
              "      <th>82</th>\n",
              "      <td>-0.19</td>\n",
              "      <td>-2.420000</td>\n",
              "    </tr>\n",
              "    <tr>\n",
              "      <th>83</th>\n",
              "      <td>-0.15</td>\n",
              "      <td>-9.490000</td>\n",
              "    </tr>\n",
              "    <tr>\n",
              "      <th>84</th>\n",
              "      <td>-0.08</td>\n",
              "      <td>-5.090000</td>\n",
              "    </tr>\n",
              "    <tr>\n",
              "      <th>85</th>\n",
              "      <td>-0.19</td>\n",
              "      <td>-7.299999</td>\n",
              "    </tr>\n",
              "    <tr>\n",
              "      <th>86</th>\n",
              "      <td>-0.11</td>\n",
              "      <td>1.750000</td>\n",
              "    </tr>\n",
              "    <tr>\n",
              "      <th>87</th>\n",
              "      <td>-0.11</td>\n",
              "      <td>8.759998</td>\n",
              "    </tr>\n",
              "    <tr>\n",
              "      <th>88</th>\n",
              "      <td>-0.15</td>\n",
              "      <td>-0.090000</td>\n",
              "    </tr>\n",
              "    <tr>\n",
              "      <th>89</th>\n",
              "      <td>-0.07</td>\n",
              "      <td>2.400000</td>\n",
              "    </tr>\n",
              "    <tr>\n",
              "      <th>90</th>\n",
              "      <td>0.01</td>\n",
              "      <td>-6.320000</td>\n",
              "    </tr>\n",
              "    <tr>\n",
              "      <th>91</th>\n",
              "      <td>0.07</td>\n",
              "      <td>-11.359999</td>\n",
              "    </tr>\n",
              "    <tr>\n",
              "      <th>92</th>\n",
              "      <td>0.03</td>\n",
              "      <td>-5.160001</td>\n",
              "    </tr>\n",
              "    <tr>\n",
              "      <th>93</th>\n",
              "      <td>-0.06</td>\n",
              "      <td>-3.630000</td>\n",
              "    </tr>\n",
              "    <tr>\n",
              "      <th>94</th>\n",
              "      <td>-0.07</td>\n",
              "      <td>-5.480000</td>\n",
              "    </tr>\n",
              "    <tr>\n",
              "      <th>95</th>\n",
              "      <td>-0.06</td>\n",
              "      <td>-4.850000</td>\n",
              "    </tr>\n",
              "    <tr>\n",
              "      <th>96</th>\n",
              "      <td>-0.03</td>\n",
              "      <td>4.130000</td>\n",
              "    </tr>\n",
              "    <tr>\n",
              "      <th>97</th>\n",
              "      <td>-0.01</td>\n",
              "      <td>-0.110000</td>\n",
              "    </tr>\n",
              "    <tr>\n",
              "      <th>98</th>\n",
              "      <td>-0.01</td>\n",
              "      <td>3.500001</td>\n",
              "    </tr>\n",
              "    <tr>\n",
              "      <th>99</th>\n",
              "      <td>-0.02</td>\n",
              "      <td>0.280000</td>\n",
              "    </tr>\n",
              "    <tr>\n",
              "      <th>100</th>\n",
              "      <td>0.08</td>\n",
              "      <td>2.559999</td>\n",
              "    </tr>\n",
              "    <tr>\n",
              "      <th>101</th>\n",
              "      <td>0.12</td>\n",
              "      <td>1.140000</td>\n",
              "    </tr>\n",
              "    <tr>\n",
              "      <th>102</th>\n",
              "      <td>0.19</td>\n",
              "      <td>-4.830001</td>\n",
              "    </tr>\n",
              "    <tr>\n",
              "      <th>103</th>\n",
              "      <td>0.16</td>\n",
              "      <td>1.040000</td>\n",
              "    </tr>\n",
              "    <tr>\n",
              "      <th>104</th>\n",
              "      <td>0.34</td>\n",
              "      <td>-0.769998</td>\n",
              "    </tr>\n",
              "    <tr>\n",
              "      <th>105</th>\n",
              "      <td>0.33</td>\n",
              "      <td>1.150000</td>\n",
              "    </tr>\n",
              "    <tr>\n",
              "      <th>106</th>\n",
              "      <td>0.21</td>\n",
              "      <td>-0.250000</td>\n",
              "    </tr>\n",
              "    <tr>\n",
              "      <th>107</th>\n",
              "      <td>0.40</td>\n",
              "      <td>1.989999</td>\n",
              "    </tr>\n",
              "    <tr>\n",
              "      <th>108</th>\n",
              "      <td>0.29</td>\n",
              "      <td>-8.210001</td>\n",
              "    </tr>\n",
              "    <tr>\n",
              "      <th>109</th>\n",
              "      <td>0.41</td>\n",
              "      <td>-4.880000</td>\n",
              "    </tr>\n",
              "  </tbody>\n",
              "</table>\n",
              "<p>110 rows × 2 columns</p>\n",
              "</div>"
            ],
            "text/plain": [
              "     Delta Yield  Delta VIX\n",
              "0            NaN  13.490001\n",
              "1            NaN   2.460001\n",
              "2            NaN   9.120001\n",
              "3            NaN  19.220001\n",
              "4          -1.28  -4.450001\n",
              "5          -2.16  -1.280000\n",
              "6          -1.63  -5.930001\n",
              "7          -2.22 -14.560001\n",
              "8          -2.49  -3.510000\n",
              "9          -1.94  -2.710000\n",
              "10         -2.71  -2.010000\n",
              "11         -2.03   0.670000\n",
              "12         -0.65  -4.980000\n",
              "13         -1.06  -3.110000\n",
              "14         -0.13  -1.440000\n",
              "15          0.09  -4.690000\n",
              "16          0.04  -1.790000\n",
              "17          1.58   1.350000\n",
              "18          2.01  -0.600000\n",
              "19          2.72   3.100000\n",
              "20          3.51   1.330000\n",
              "21          1.45  -2.020000\n",
              "22          0.11   2.360000\n",
              "23         -0.52  -0.730000\n",
              "24         -1.96   0.570000\n",
              "25         -0.73   4.080000\n",
              "26          0.26   5.969999\n",
              "27         -0.04   4.280001\n",
              "28          0.52   6.939999\n",
              "29          0.45   4.229999\n",
              "..           ...        ...\n",
              "80         -0.09 -20.219999\n",
              "81         -0.11 -14.450001\n",
              "82         -0.19  -2.420000\n",
              "83         -0.15  -9.490000\n",
              "84         -0.08  -5.090000\n",
              "85         -0.19  -7.299999\n",
              "86         -0.11   1.750000\n",
              "87         -0.11   8.759998\n",
              "88         -0.15  -0.090000\n",
              "89         -0.07   2.400000\n",
              "90          0.01  -6.320000\n",
              "91          0.07 -11.359999\n",
              "92          0.03  -5.160001\n",
              "93         -0.06  -3.630000\n",
              "94         -0.07  -5.480000\n",
              "95         -0.06  -4.850000\n",
              "96         -0.03   4.130000\n",
              "97         -0.01  -0.110000\n",
              "98         -0.01   3.500001\n",
              "99         -0.02   0.280000\n",
              "100         0.08   2.559999\n",
              "101         0.12   1.140000\n",
              "102         0.19  -4.830001\n",
              "103         0.16   1.040000\n",
              "104         0.34  -0.769998\n",
              "105         0.33   1.150000\n",
              "106         0.21  -0.250000\n",
              "107         0.40   1.989999\n",
              "108         0.29  -8.210001\n",
              "109         0.41  -4.880000\n",
              "\n",
              "[110 rows x 2 columns]"
            ]
          },
          "metadata": {
            "tags": []
          },
          "execution_count": 1024
        }
      ]
    },
    {
      "metadata": {
        "id": "VJRWLvlxY0qT",
        "colab_type": "code",
        "colab": {
          "base_uri": "https://localhost:8080/",
          "height": 68
        },
        "outputId": "9c5ae4d3-54cc-40b5-ba62-ebc6a63e2771"
      },
      "cell_type": "code",
      "source": [
        "training_features.isnull().any()"
      ],
      "execution_count": 1025,
      "outputs": [
        {
          "output_type": "execute_result",
          "data": {
            "text/plain": [
              "Delta Yield     True\n",
              "Delta VIX      False\n",
              "dtype: bool"
            ]
          },
          "metadata": {
            "tags": []
          },
          "execution_count": 1025
        }
      ]
    },
    {
      "metadata": {
        "id": "jxDqd-3eY4ax",
        "colab_type": "code",
        "colab": {
          "base_uri": "https://localhost:8080/",
          "height": 68
        },
        "outputId": "008b5305-fa93-41a6-9c33-1edab2435af1"
      },
      "cell_type": "code",
      "source": [
        "training_features.isnull().sum()"
      ],
      "execution_count": 1026,
      "outputs": [
        {
          "output_type": "execute_result",
          "data": {
            "text/plain": [
              "Delta Yield    4\n",
              "Delta VIX      0\n",
              "dtype: int64"
            ]
          },
          "metadata": {
            "tags": []
          },
          "execution_count": 1026
        }
      ]
    },
    {
      "metadata": {
        "id": "z0AmDxOGY7CX",
        "colab_type": "code",
        "colab": {}
      },
      "cell_type": "code",
      "source": [
        "training_features.fillna(value=training_features['Delta Yield'].mean(), inplace=True)"
      ],
      "execution_count": 0,
      "outputs": []
    },
    {
      "metadata": {
        "id": "JodYsAhOYAoL",
        "colab_type": "code",
        "colab": {}
      },
      "cell_type": "code",
      "source": [
        "X = training_features.values\n",
        "y = recession.values"
      ],
      "execution_count": 0,
      "outputs": []
    },
    {
      "metadata": {
        "id": "DvSimyWYYEbK",
        "colab_type": "code",
        "colab": {
          "base_uri": "https://localhost:8080/",
          "height": 71
        },
        "outputId": "4154fd90-a147-4de8-f30b-7b617ea7e3c1"
      },
      "cell_type": "code",
      "source": [
        "ros = RandomOverSampler()\n",
        "X, y = ros.fit_resample(X, y)"
      ],
      "execution_count": 1029,
      "outputs": [
        {
          "output_type": "stream",
          "text": [
            "/usr/local/lib/python3.6/dist-packages/sklearn/utils/validation.py:761: DataConversionWarning: A column-vector y was passed when a 1d array was expected. Please change the shape of y to (n_samples, ), for example using ravel().\n",
            "  y = column_or_1d(y, warn=True)\n"
          ],
          "name": "stderr"
        }
      ]
    },
    {
      "metadata": {
        "id": "NPbyk0fLYPqj",
        "colab_type": "code",
        "colab": {}
      },
      "cell_type": "code",
      "source": [
        "from sklearn.ensemble import RandomForestClassifier, GradientBoostingClassifier, BaggingClassifier\n",
        "from sklearn.model_selection import learning_curve, cross_val_score, train_test_split\n",
        "from sklearn.metrics import confusion_matrix\n",
        "from sklearn.neighbors import KNeighborsClassifier"
      ],
      "execution_count": 0,
      "outputs": []
    },
    {
      "metadata": {
        "id": "ktxKuPXXYj36",
        "colab_type": "code",
        "colab": {
          "base_uri": "https://localhost:8080/",
          "height": 51
        },
        "outputId": "86bb18ad-7850-42c0-9255-4d685a3af801"
      },
      "cell_type": "code",
      "source": [
        "rf = RandomForestClassifier(n_estimators=250)\n",
        "base = BaggingClassifier(base_estimator=rf, n_estimators=100)\n",
        "\n",
        "score = cross_val_score(rf, X, y, cv=10, verbose=3, n_jobs=-1)"
      ],
      "execution_count": 1051,
      "outputs": [
        {
          "output_type": "stream",
          "text": [
            "[Parallel(n_jobs=-1)]: Using backend LokyBackend with 2 concurrent workers.\n",
            "[Parallel(n_jobs=-1)]: Done  10 out of  10 | elapsed:    1.4s finished\n"
          ],
          "name": "stderr"
        }
      ]
    },
    {
      "metadata": {
        "id": "gopeAU8sZSvR",
        "colab_type": "code",
        "colab": {
          "base_uri": "https://localhost:8080/",
          "height": 34
        },
        "outputId": "0b42ebcc-e9e5-4064-ee05-c0ab5ffcb5c0"
      },
      "cell_type": "code",
      "source": [
        "score.mean()"
      ],
      "execution_count": 1052,
      "outputs": [
        {
          "output_type": "execute_result",
          "data": {
            "text/plain": [
              "0.9291666666666666"
            ]
          },
          "metadata": {
            "tags": []
          },
          "execution_count": 1052
        }
      ]
    },
    {
      "metadata": {
        "id": "lpXINK-SZWnA",
        "colab_type": "code",
        "colab": {}
      },
      "cell_type": "code",
      "source": [
        "trainX, testX, trainY, testY = train_test_split(X, y, test_size=.2)"
      ],
      "execution_count": 0,
      "outputs": []
    },
    {
      "metadata": {
        "id": "Ro4KvF0Kd04r",
        "colab_type": "code",
        "colab": {
          "base_uri": "https://localhost:8080/",
          "height": 136
        },
        "outputId": "71d0f7b0-941e-452f-a865-b34735b082bb"
      },
      "cell_type": "code",
      "source": [
        "rf.fit(trainX, trainY)"
      ],
      "execution_count": 1055,
      "outputs": [
        {
          "output_type": "execute_result",
          "data": {
            "text/plain": [
              "RandomForestClassifier(bootstrap=True, class_weight=None, criterion='gini',\n",
              "            max_depth=None, max_features='auto', max_leaf_nodes=None,\n",
              "            min_impurity_decrease=0.0, min_impurity_split=None,\n",
              "            min_samples_leaf=1, min_samples_split=2,\n",
              "            min_weight_fraction_leaf=0.0, n_estimators=250, n_jobs=None,\n",
              "            oob_score=False, random_state=None, verbose=0,\n",
              "            warm_start=False)"
            ]
          },
          "metadata": {
            "tags": []
          },
          "execution_count": 1055
        }
      ]
    },
    {
      "metadata": {
        "id": "EnOzy5GAZ32v",
        "colab_type": "code",
        "colab": {
          "base_uri": "https://localhost:8080/",
          "height": 68
        },
        "outputId": "dc25b112-3c37-41b1-d7ea-d0ff6ae4afe2"
      },
      "cell_type": "code",
      "source": [
        "confusion_matrix(testY, rf.predict(testX))"
      ],
      "execution_count": 1056,
      "outputs": [
        {
          "output_type": "execute_result",
          "data": {
            "text/plain": [
              "array([[12,  2,  0],\n",
              "       [ 0, 22,  0],\n",
              "       [ 0,  0, 17]])"
            ]
          },
          "metadata": {
            "tags": []
          },
          "execution_count": 1056
        }
      ]
    },
    {
      "metadata": {
        "id": "HEsVNRiJbKA6",
        "colab_type": "code",
        "colab": {
          "base_uri": "https://localhost:8080/",
          "height": 34
        },
        "outputId": "0055e7ab-7159-42c4-b168-ce0000ab70f5"
      },
      "cell_type": "code",
      "source": [
        "rf.feature_importances_"
      ],
      "execution_count": 1057,
      "outputs": [
        {
          "output_type": "execute_result",
          "data": {
            "text/plain": [
              "array([0.58944204, 0.41055796])"
            ]
          },
          "metadata": {
            "tags": []
          },
          "execution_count": 1057
        }
      ]
    }
  ]
}